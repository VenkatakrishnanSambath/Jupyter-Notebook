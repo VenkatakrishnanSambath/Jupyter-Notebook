{
 "cells": [
  {
   "cell_type": "markdown",
   "id": "a7aca8f6-c752-4359-9afd-f83e84d3f370",
   "metadata": {},
   "source": [
    "# h1 : \"Data Science tools and Ecosystem\""
   ]
  },
  {
   "cell_type": "markdown",
   "id": "16101e14-66af-4e82-80a7-fd6e30335159",
   "metadata": {},
   "source": [
    "In this notebook,Data Science tools and Environment are summarized"
   ]
  },
  {
   "cell_type": "markdown",
   "id": "28beac6f-1063-45d4-8039-0cf06493cee6",
   "metadata": {},
   "source": [
    "Some of the popular languages that data scientists use are:\n",
    "1. Python\n",
    "2. R\n",
    "3. SQL\n",
    "4. Julia\n",
    "5. Scala"
   ]
  },
  {
   "cell_type": "markdown",
   "id": "eb3e5472-9b7e-4c5e-9b24-990dbd66e094",
   "metadata": {},
   "source": [
    "Some of the commonly used libraries by data scientists include:\n",
    "1. Pandas\n",
    "2. Numpy\n",
    "3. Matplotlib\n",
    "4. Seaborn\n",
    "5. Tensorflow"
   ]
  },
  {
   "cell_type": "markdown",
   "id": "fb177faa-6527-4a91-aef2-869fde18b9c1",
   "metadata": {
    "tags": []
   },
   "source": [
    "To create tables, use: \n",
    "* **hyphens** <code>(----)</code> for column headers \n",
    "* **pipes** <code>|</code> to separate each column\n",
    "* **Text on a new line** to separate each row"
   ]
  },
  {
   "cell_type": "markdown",
   "id": "42f7125e-8014-4a49-a77d-1bb362713ee5",
   "metadata": {},
   "source": [
    "\n",
    "| Data Science Tools |\n",
    "| ------------- |\n",
    "| Jupyter Notebook |\n",
    "| RStudio |\n",
    "| Pycharm |"
   ]
  },
  {
   "cell_type": "markdown",
   "id": "40b7644a-02f8-4e42-8aff-28ec0c09995b",
   "metadata": {},
   "source": [
    "### h3: Below are a few examples of evaluating arithmetic expressions in python"
   ]
  },
  {
   "cell_type": "code",
   "execution_count": 2,
   "id": "bac2a4d7-c3f6-457c-ae79-0e94502bdfd4",
   "metadata": {
    "tags": []
   },
   "outputs": [
    {
     "data": {
      "text/plain": [
       "17"
      ]
     },
     "execution_count": 2,
     "metadata": {},
     "output_type": "execute_result"
    }
   ],
   "source": [
    "#This a simple arithmetic expression to mutiply then add integers.\n",
    "\n",
    "x = (3*4)+5\n",
    "x"
   ]
  },
  {
   "cell_type": "code",
   "execution_count": 4,
   "id": "b280c2c2-1c66-4a58-a266-8e04a2d3ef42",
   "metadata": {
    "tags": []
   },
   "outputs": [
    {
     "name": "stdout",
     "output_type": "stream",
     "text": [
      "200 mins is equal to  3.3333333333333335 hours\n"
     ]
    }
   ],
   "source": [
    "#This will convert 200 minutes to hours by diving by 60.\n",
    "\n",
    "min = 200\n",
    "hrs = min/60\n",
    "print(\"200 mins is equal to \",hrs,\"hours\")"
   ]
  },
  {
   "cell_type": "markdown",
   "id": "a423a69f-35ec-4f0c-8430-94fa68d11e92",
   "metadata": {},
   "source": [
    "# Objectives\n",
    "- List popular languages in data science\n",
    "- Examples of evaluating arithmetic expressions\n",
    "- List commonly used libraries by data scientists\n",
    "- Writing h1 headers using markdown"
   ]
  },
  {
   "cell_type": "markdown",
   "id": "80852aaa-769e-4096-b8f4-79c20b73e02a",
   "metadata": {},
   "source": [
    "## H2 : Author"
   ]
  },
  {
   "cell_type": "markdown",
   "id": "b7608b4c-0381-4f40-a870-d094a03f29f5",
   "metadata": {
    "tags": []
   },
   "source": [
    "Venkatakrishnan"
   ]
  },
  {
   "cell_type": "code",
   "execution_count": null,
   "id": "a0b98fbf-e881-4c28-85d2-092c311faea3",
   "metadata": {},
   "outputs": [],
   "source": []
  }
 ],
 "metadata": {
  "kernelspec": {
   "display_name": "Python",
   "language": "python",
   "name": "conda-env-python-py"
  },
  "language_info": {
   "codemirror_mode": {
    "name": "ipython",
    "version": 3
   },
   "file_extension": ".py",
   "mimetype": "text/x-python",
   "name": "python",
   "nbconvert_exporter": "python",
   "pygments_lexer": "ipython3",
   "version": "3.7.12"
  }
 },
 "nbformat": 4,
 "nbformat_minor": 5
}
